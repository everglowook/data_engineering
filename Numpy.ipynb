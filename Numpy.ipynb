{
 "cells": [
  {
   "cell_type": "markdown",
   "id": "a19b8382",
   "metadata": {},
   "source": [
    "## zeros()\n",
    "\n",
    "#### 괄호 안에 입력된 숫자만큼의 원소를 생성하고 0으로 초기화"
   ]
  },
  {
   "cell_type": "code",
   "execution_count": 53,
   "id": "c89b3d6b",
   "metadata": {},
   "outputs": [
    {
     "data": {
      "text/plain": [
       "array([0., 0., 0., 0., 0., 0., 0., 0., 0., 0.])"
      ]
     },
     "execution_count": 53,
     "metadata": {},
     "output_type": "execute_result"
    }
   ],
   "source": [
    "import numpy as np\n",
    "\n",
    "# y = np.zeros(shape=(10,2), dtype=np.int8)\n",
    "\n",
    "y = np.zeros(10)\n",
    "y\n",
    "\n",
    "# x = np.array([1,2,3])\n",
    "# type(x)\n",
    "# x.shape\n"
   ]
  },
  {
   "cell_type": "markdown",
   "id": "ba9c1792",
   "metadata": {},
   "source": [
    "## mean()\n",
    "\n",
    "#### 배열에 저장된 원소들의 평균값을 계산"
   ]
  },
  {
   "cell_type": "code",
   "execution_count": 60,
   "id": "8cf1a157",
   "metadata": {},
   "outputs": [
    {
     "data": {
      "text/plain": [
       "(3,)"
      ]
     },
     "execution_count": 60,
     "metadata": {},
     "output_type": "execute_result"
    }
   ],
   "source": [
    "import numpy as np\n",
    "\n",
    "list_1 = [1,2,3]\n",
    "x = np.array(list_1)\n",
    "x.mean()\n",
    "x.shape"
   ]
  },
  {
   "cell_type": "markdown",
   "id": "1e966f80",
   "metadata": {},
   "source": [
    "## array()\n",
    "\n",
    "#### Numpy 형식으로 배열의 원소를 입력할 때는 반드시 리스트 형식으로 입력"
   ]
  },
  {
   "cell_type": "code",
   "execution_count": 63,
   "id": "42955831",
   "metadata": {},
   "outputs": [
    {
     "name": "stdout",
     "output_type": "stream",
     "text": [
      "[1 2 3] [1 2 3] [12  3  4]\n"
     ]
    }
   ],
   "source": [
    "x = np.array([1,2,3])\n",
    "y = np.array([1,2,3])\n",
    "z = np.array([12,3,4])\n",
    "\n",
    "print(x,y,z)"
   ]
  },
  {
   "cell_type": "markdown",
   "id": "ebfc7b3c",
   "metadata": {},
   "source": [
    "## reshape()\n",
    "\n",
    "#### 배열을 원하는 모양으로 생성"
   ]
  },
  {
   "cell_type": "code",
   "execution_count": 69,
   "id": "b777c571",
   "metadata": {},
   "outputs": [
    {
     "name": "stdout",
     "output_type": "stream",
     "text": [
      "[[1 2 3 4]\n",
      " [5 6 7 8]] (2, 4) \n",
      " [[1 2]\n",
      " [3 4]\n",
      " [5 6]\n",
      " [7 8]] (4, 2)\n"
     ]
    }
   ],
   "source": [
    "import numpy as np\n",
    "a = [1,2,3,4,5,6,7,8]\n",
    "b = np.reshape(a,(2,4))\n",
    "c = np.reshape(a,(4,2))\n",
    "print(b, b.shape, '\\n', c, c.shape)"
   ]
  },
  {
   "cell_type": "markdown",
   "id": "647183f9",
   "metadata": {},
   "source": [
    "## reshape() \n",
    "#### 3차원 배열 만들기"
   ]
  },
  {
   "cell_type": "code",
   "execution_count": 77,
   "id": "280b4cd3",
   "metadata": {},
   "outputs": [
    {
     "name": "stdout",
     "output_type": "stream",
     "text": [
      "[1 2 3 4 5 6 7 8]\n",
      "[[[1 2]\n",
      "  [3 4]]\n",
      "\n",
      " [[5 6]\n",
      "  [7 8]]]\n"
     ]
    }
   ],
   "source": [
    "a = np.arange(1,9)\n",
    "print(a)\n",
    "b = a.reshape(2,2,2)\n",
    "print(b)"
   ]
  },
  {
   "cell_type": "markdown",
   "id": "2b10e12a",
   "metadata": {},
   "source": [
    "#### reshape를 활용하는 경우를 보다 보면 입력인수로 -1이 들어간 경우가 종종 있다.\n",
    "#### reshape()의 -1이 의미하는 바는 변경된 배열의 -1 위치의 차원은 “원래 배열의 길이와 남은 차원으로 부터 추정”이 된다는 뜻이다."
   ]
  },
  {
   "cell_type": "code",
   "execution_count": 79,
   "id": "d83fff36",
   "metadata": {},
   "outputs": [
    {
     "name": "stdout",
     "output_type": "stream",
     "text": [
      "[ 1  2  3  4  5  6  7  8  9 10 11 12]\n",
      "[[[ 1  2]\n",
      "  [ 3  4]]\n",
      "\n",
      " [[ 5  6]\n",
      "  [ 7  8]]\n",
      "\n",
      " [[ 9 10]\n",
      "  [11 12]]]\n"
     ]
    }
   ],
   "source": [
    "a = np.arange(1,13)\n",
    "print(a)\n",
    "b = a.reshape(3,2,2)\n",
    "print(b)"
   ]
  },
  {
   "cell_type": "code",
   "execution_count": 92,
   "id": "315f774c",
   "metadata": {},
   "outputs": [
    {
     "name": "stdout",
     "output_type": "stream",
     "text": [
      "[ 1  2  3  4  5  6  7  8  9 10 11 12]\n",
      "[[[ 1  2]\n",
      "  [ 3  4]]\n",
      "\n",
      " [[ 5  6]\n",
      "  [ 7  8]]\n",
      "\n",
      " [[ 9 10]\n",
      "  [11 12]]]\n"
     ]
    }
   ],
   "source": [
    "# 연습용\n",
    "\n",
    "a = np.arange(1,13)\n",
    "print(a)\n",
    "b = a.reshape(3,2,2)\n",
    "print(b)"
   ]
  },
  {
   "cell_type": "code",
   "execution_count": 88,
   "id": "4a828ab0",
   "metadata": {},
   "outputs": [
    {
     "data": {
      "text/plain": [
       "array([[ 0,  1,  2,  3],\n",
       "       [ 4,  5,  6,  7],\n",
       "       [ 8,  9, 10, 11]])"
      ]
     },
     "execution_count": 88,
     "metadata": {},
     "output_type": "execute_result"
    }
   ],
   "source": [
    "x = np.arange(12)\n",
    "x = x.reshape(3,4)\n",
    "x"
   ]
  },
  {
   "cell_type": "code",
   "execution_count": 91,
   "id": "b03046ed",
   "metadata": {},
   "outputs": [
    {
     "data": {
      "text/plain": [
       "array([[ 0,  1,  2,  3],\n",
       "       [ 4,  5,  6,  7],\n",
       "       [ 8,  9, 10, 11]])"
      ]
     },
     "execution_count": 91,
     "metadata": {},
     "output_type": "execute_result"
    }
   ],
   "source": [
    "# 연습용\n",
    "\n",
    "x.reshape(-1,4)"
   ]
  },
  {
   "cell_type": "markdown",
   "id": "c14f5877",
   "metadata": {},
   "source": [
    "## ones()"
   ]
  },
  {
   "cell_type": "code",
   "execution_count": 99,
   "id": "e109b4e9",
   "metadata": {},
   "outputs": [
    {
     "name": "stdout",
     "output_type": "stream",
     "text": [
      "[[2. 2. 2.]\n",
      " [2. 2. 2.]\n",
      " [2. 2. 2.]\n",
      " [2. 2. 2.]]\n"
     ]
    }
   ],
   "source": [
    "y = np.ones([4,3])\n",
    "z = y*2 \n",
    "print(z)"
   ]
  },
  {
   "cell_type": "markdown",
   "id": "38620d06",
   "metadata": {},
   "source": [
    "## Numpy 배열의 슬라이싱"
   ]
  },
  {
   "cell_type": "code",
   "execution_count": 102,
   "id": "2d35af57",
   "metadata": {},
   "outputs": [
    {
     "name": "stdout",
     "output_type": "stream",
     "text": [
      "{2, 12}\n"
     ]
    },
    {
     "ename": "TypeError",
     "evalue": "list indices must be integers or slices, not tuple",
     "output_type": "error",
     "traceback": [
      "\u001b[1;31m---------------------------------------------------------------------------\u001b[0m",
      "\u001b[1;31mTypeError\u001b[0m                                 Traceback (most recent call last)",
      "\u001b[1;32m<ipython-input-102-8fbd4634761c>\u001b[0m in \u001b[0;36m<module>\u001b[1;34m\u001b[0m\n\u001b[0;32m      1\u001b[0m \u001b[0mlist1\u001b[0m \u001b[1;33m=\u001b[0m \u001b[1;33m[\u001b[0m\u001b[1;33m{\u001b[0m\u001b[1;36m1\u001b[0m\u001b[1;33m,\u001b[0m\u001b[1;36m11\u001b[0m\u001b[1;33m}\u001b[0m\u001b[1;33m,\u001b[0m\u001b[1;33m{\u001b[0m\u001b[1;36m2\u001b[0m\u001b[1;33m,\u001b[0m\u001b[1;36m12\u001b[0m\u001b[1;33m}\u001b[0m\u001b[1;33m,\u001b[0m\u001b[1;33m{\u001b[0m\u001b[1;36m3\u001b[0m\u001b[1;33m,\u001b[0m\u001b[1;36m13\u001b[0m\u001b[1;33m}\u001b[0m\u001b[1;33m,\u001b[0m\u001b[1;33m{\u001b[0m\u001b[1;36m4\u001b[0m\u001b[1;33m,\u001b[0m\u001b[1;36m14\u001b[0m\u001b[1;33m}\u001b[0m\u001b[1;33m]\u001b[0m\u001b[1;33m\u001b[0m\u001b[1;33m\u001b[0m\u001b[0m\n\u001b[0;32m      2\u001b[0m \u001b[0mprint\u001b[0m\u001b[1;33m(\u001b[0m\u001b[0mlist1\u001b[0m\u001b[1;33m[\u001b[0m\u001b[1;33m:\u001b[0m\u001b[1;33m]\u001b[0m\u001b[1;33m[\u001b[0m\u001b[1;36m1\u001b[0m\u001b[1;33m]\u001b[0m\u001b[1;33m)\u001b[0m\u001b[1;33m\u001b[0m\u001b[1;33m\u001b[0m\u001b[0m\n\u001b[1;32m----> 3\u001b[1;33m \u001b[0mprint\u001b[0m\u001b[1;33m(\u001b[0m\u001b[0mlist1\u001b[0m\u001b[1;33m[\u001b[0m\u001b[1;33m:\u001b[0m\u001b[1;33m,\u001b[0m \u001b[1;36m1\u001b[0m\u001b[1;33m]\u001b[0m\u001b[1;33m)\u001b[0m\u001b[1;33m\u001b[0m\u001b[1;33m\u001b[0m\u001b[0m\n\u001b[0m",
      "\u001b[1;31mTypeError\u001b[0m: list indices must be integers or slices, not tuple"
     ]
    }
   ],
   "source": [
    "list1 = [{1,11},{2,12},{3,13},{4,14}]\n",
    "print(list1[:][1])\n",
    "print(list1[:, 1])"
   ]
  },
  {
   "cell_type": "code",
   "execution_count": 108,
   "id": "b700cf26",
   "metadata": {},
   "outputs": [
    {
     "name": "stdout",
     "output_type": "stream",
     "text": [
      "[{2, 12} {3, 13} {4, 14}]\n"
     ]
    }
   ],
   "source": [
    "list1 = [{1,11},{2,12},{3,13},{4,14}]\n",
    "arr = np.array(list1)\n",
    "print(arr[1:4])"
   ]
  },
  {
   "cell_type": "markdown",
   "id": "fdb27710",
   "metadata": {},
   "source": [
    "## math 모듈의 sqrt()와 Numpy 모듈의 sqrt() 비교"
   ]
  },
  {
   "cell_type": "code",
   "execution_count": 112,
   "id": "47f2f3ca",
   "metadata": {},
   "outputs": [
    {
     "ename": "TypeError",
     "evalue": "must be real number, not list",
     "output_type": "error",
     "traceback": [
      "\u001b[1;31m---------------------------------------------------------------------------\u001b[0m",
      "\u001b[1;31mTypeError\u001b[0m                                 Traceback (most recent call last)",
      "\u001b[1;32m<ipython-input-112-a371fd607665>\u001b[0m in \u001b[0;36m<module>\u001b[1;34m\u001b[0m\n\u001b[0;32m      1\u001b[0m \u001b[1;32mimport\u001b[0m \u001b[0mmath\u001b[0m\u001b[1;33m\u001b[0m\u001b[1;33m\u001b[0m\u001b[0m\n\u001b[0;32m      2\u001b[0m \u001b[0mmath\u001b[0m\u001b[1;33m.\u001b[0m\u001b[0msqrt\u001b[0m\u001b[1;33m(\u001b[0m\u001b[1;36m2\u001b[0m\u001b[1;33m)\u001b[0m\u001b[1;33m\u001b[0m\u001b[1;33m\u001b[0m\u001b[0m\n\u001b[1;32m----> 3\u001b[1;33m \u001b[0mmath\u001b[0m\u001b[1;33m.\u001b[0m\u001b[0msqrt\u001b[0m\u001b[1;33m(\u001b[0m\u001b[1;33m[\u001b[0m\u001b[1;36m2\u001b[0m\u001b[1;33m,\u001b[0m\u001b[1;36m3\u001b[0m\u001b[1;33m,\u001b[0m\u001b[1;36m4\u001b[0m\u001b[1;33m]\u001b[0m\u001b[1;33m)\u001b[0m\u001b[1;33m\u001b[0m\u001b[1;33m\u001b[0m\u001b[0m\n\u001b[0m",
      "\u001b[1;31mTypeError\u001b[0m: must be real number, not list"
     ]
    }
   ],
   "source": [
    "import math\n",
    "math.sqrt(2)\n",
    "math.sqrt([2,3,4])"
   ]
  },
  {
   "cell_type": "code",
   "execution_count": 113,
   "id": "f77f59fc",
   "metadata": {},
   "outputs": [
    {
     "data": {
      "text/plain": [
       "array([1.41421356, 1.73205081, 2.        ])"
      ]
     },
     "execution_count": 113,
     "metadata": {},
     "output_type": "execute_result"
    }
   ],
   "source": [
    "import numpy as np\n",
    "np.sqrt(2)\n",
    "np.sqrt([2,3,4])"
   ]
  },
  {
   "cell_type": "code",
   "execution_count": 116,
   "id": "36771233",
   "metadata": {},
   "outputs": [
    {
     "name": "stdout",
     "output_type": "stream",
     "text": [
      "[0. 0. 0. 0. 0. 0. 0. 0. 0. 0. 0. 0. 0. 0. 0.]\n"
     ]
    }
   ],
   "source": [
    "import numpy as np\n",
    "\n",
    "x = np.zeros(15)\n",
    "print(x)"
   ]
  },
  {
   "cell_type": "code",
   "execution_count": 120,
   "id": "5d20b42c",
   "metadata": {},
   "outputs": [
    {
     "name": "stdout",
     "output_type": "stream",
     "text": [
      "[[0. 0. 0.]\n",
      " [0. 0. 0.]\n",
      " [0. 0. 0.]\n",
      " [0. 0. 0.]\n",
      " [0. 0. 0.]]\n"
     ]
    }
   ],
   "source": [
    "y = np.zeros([5,3])\n",
    "\n",
    "print(y)"
   ]
  },
  {
   "cell_type": "code",
   "execution_count": 123,
   "id": "0d3bedc2",
   "metadata": {},
   "outputs": [
    {
     "name": "stdout",
     "output_type": "stream",
     "text": [
      "[[4. 4. 4. 4. 4.]\n",
      " [4. 4. 4. 4. 4.]\n",
      " [4. 4. 4. 4. 4.]]\n"
     ]
    }
   ],
   "source": [
    "#(3,5)형태로 reshape\n",
    "\n",
    "y = np.zeros([5,3])\n",
    "z = y.reshape([3,5])\n",
    "z +=4\n",
    "print(z)"
   ]
  },
  {
   "cell_type": "markdown",
   "id": "43661543",
   "metadata": {},
   "source": [
    "## 전치행렬\n",
    "#### transpose() - 행과 열을 교환하여 얻어지는 행렬, 행렬의 값들을 주대각선을 기준으로 위치를 바꾼 행렬을 의미"
   ]
  },
  {
   "cell_type": "code",
   "execution_count": 128,
   "id": "23b8f023",
   "metadata": {},
   "outputs": [
    {
     "name": "stdout",
     "output_type": "stream",
     "text": [
      "[[1 2]\n",
      " [3 4]]\n",
      "\n",
      "\n",
      "\n",
      "\n",
      "[[1 3]\n",
      " [2 4]]\n"
     ]
    }
   ],
   "source": [
    "import numpy as np\n",
    "\n",
    "ary = np.array([[1,2],[3,4]])\n",
    "print(ary)\n",
    "print('\\n\\n\\n')\n",
    "trans_ary = ary.transpose()\n",
    "print(trans_ary)"
   ]
  },
  {
   "cell_type": "code",
   "execution_count": 130,
   "id": "73482e5c",
   "metadata": {},
   "outputs": [
    {
     "name": "stdout",
     "output_type": "stream",
     "text": [
      "[[1 2 5]\n",
      " [3 4 6]]\n",
      "\n",
      "\n",
      "\n",
      "\n",
      "[[1 3]\n",
      " [2 4]\n",
      " [5 6]]\n"
     ]
    }
   ],
   "source": [
    "ary = np.array([[1,2,5],[3,4,6]])\n",
    "print(ary)\n",
    "print('\\n\\n\\n')\n",
    "trans_ary = ary.transpose()\n",
    "print(trans_ary)"
   ]
  },
  {
   "cell_type": "markdown",
   "id": "3aa03e6f",
   "metadata": {},
   "source": [
    "## 2개 배결에 대한 연산\n",
    "#### 2개 배열에 저장된 내용을 인덱스별로 계산\n",
    "#### 선형대수학의 사칙연산과 동일하게 작동, 곱셈도 같은 원리로 동작"
   ]
  },
  {
   "cell_type": "code",
   "execution_count": 138,
   "id": "1858eef4",
   "metadata": {},
   "outputs": [
    {
     "name": "stdout",
     "output_type": "stream",
     "text": [
      "[4 6 8]\n",
      "[ 3  8 15]\n",
      "[  3  16 125]\n",
      "[0 0 2]\n"
     ]
    }
   ],
   "source": [
    "x = np.array([3,4,5])\n",
    "y = np.array([1,2,3])\n",
    "\n",
    "print(x+y)\n",
    "print(x*y)\n",
    "print(x**y) # 제곱\n",
    "print(x%y) # 나머지"
   ]
  },
  {
   "cell_type": "code",
   "execution_count": 140,
   "id": "e89b2526",
   "metadata": {},
   "outputs": [
    {
     "name": "stdout",
     "output_type": "stream",
     "text": [
      "[ 81 256 625]\n"
     ]
    }
   ],
   "source": [
    "x = np.array([3,4,5])\n",
    "x **=4\n",
    "print(x)"
   ]
  },
  {
   "cell_type": "markdown",
   "id": "2c2d36da",
   "metadata": {},
   "source": [
    "## 인덱싱"
   ]
  },
  {
   "cell_type": "code",
   "execution_count": 142,
   "id": "7ecec09d",
   "metadata": {},
   "outputs": [
    {
     "name": "stdout",
     "output_type": "stream",
     "text": [
      "[4 5 6]\n",
      "[2 5 8]\n"
     ]
    }
   ],
   "source": [
    "x = np.array([[1,2,3],[4,5,6],[7,8,9]])\n",
    "print(x[1])\n",
    "print(x[:, 1])"
   ]
  },
  {
   "cell_type": "markdown",
   "id": "bebe4077",
   "metadata": {},
   "source": [
    "#### 2개의 Numpy 배열 간의 계산"
   ]
  },
  {
   "cell_type": "code",
   "execution_count": 143,
   "id": "c0105f15",
   "metadata": {},
   "outputs": [
    {
     "name": "stdout",
     "output_type": "stream",
     "text": [
      "[ 9 11 13]\n"
     ]
    }
   ],
   "source": [
    "# x의 1행과 y의 3행을 더한 값을 출력한다.\n",
    "\n",
    "x = np.array([[1,2,3],[4,5,6],[7,8,9]])\n",
    "y = np.array([[2,3,4],[5,6,7],[8,9,10]])\n",
    "print(x[0]+y[2])"
   ]
  },
  {
   "cell_type": "code",
   "execution_count": 144,
   "id": "81d8a77f",
   "metadata": {},
   "outputs": [
    {
     "name": "stdout",
     "output_type": "stream",
     "text": [
      "[2 5 8]\n"
     ]
    }
   ],
   "source": [
    "print(x[:,1])"
   ]
  },
  {
   "cell_type": "code",
   "execution_count": 145,
   "id": "da995f71",
   "metadata": {},
   "outputs": [
    {
     "name": "stdout",
     "output_type": "stream",
     "text": [
      "[16 45 80]\n"
     ]
    }
   ],
   "source": [
    "print(x[:,1]*y[2])\n",
    "\n",
    "# x[:,1] = 2,5,8\n",
    "# y[2] = 8,9,10"
   ]
  },
  {
   "cell_type": "code",
   "execution_count": 146,
   "id": "b718cc02",
   "metadata": {},
   "outputs": [
    {
     "name": "stdout",
     "output_type": "stream",
     "text": [
      "[False False False  True  True]\n"
     ]
    }
   ],
   "source": [
    "a = np.array([10,20,30,40,60])\n",
    "b = a > 30\n",
    "print(b)"
   ]
  },
  {
   "cell_type": "markdown",
   "id": "4625db20",
   "metadata": {},
   "source": [
    "## random()"
   ]
  },
  {
   "cell_type": "code",
   "execution_count": 168,
   "id": "66e05d78",
   "metadata": {},
   "outputs": [
    {
     "name": "stdout",
     "output_type": "stream",
     "text": [
      "[0.28664586 0.81246094 0.47234885 0.26736184 0.52303036]\n"
     ]
    }
   ],
   "source": [
    "# 난수모듈 생성\n",
    "\n",
    "import numpy as np\n",
    "\n",
    "ary = np.random.random(5)\n",
    "print(ary)"
   ]
  },
  {
   "cell_type": "code",
   "execution_count": 171,
   "id": "9561b7a7",
   "metadata": {},
   "outputs": [
    {
     "name": "stdout",
     "output_type": "stream",
     "text": [
      "[0.28549657 0.99199819 0.34375654 0.88073655 0.12547457]\n",
      "[[0.34634396 0.13274201 0.15314963]\n",
      " [0.70924361 0.22589812 0.39449555]] (2, 3)\n"
     ]
    }
   ],
   "source": [
    "# random.rand() 함수는 주어진 형태의 난수 어레이를 생성합니다.\n",
    "\n",
    "a = np.random.rand(5)\n",
    "print(a)\n",
    "\n",
    "b = np.random.rand(2, 3)\n",
    "print(b, b.shape)"
   ]
  },
  {
   "cell_type": "code",
   "execution_count": 176,
   "id": "51162143",
   "metadata": {},
   "outputs": [
    {
     "name": "stdout",
     "output_type": "stream",
     "text": [
      "[3 1 8 2 2 4]\n",
      "[2 3 3 3 2]\n",
      "[[4 2 1]\n",
      " [2 1 4]]\n"
     ]
    }
   ],
   "source": [
    "# random.randint() 함수는 [최소값, 최대값)의 범위에서 임의의 정수를 만듭니다.\n",
    "\n",
    "import numpy as np\n",
    "\n",
    "a = np.random.randint(10, size=6)\n",
    "print(a)\n",
    "\n",
    "b = np.random.randint(2, 4, size=5)\n",
    "print(b)\n",
    "\n",
    "c = np.random.randint(1, 5, size=(2, 3))\n",
    "print(c)"
   ]
  },
  {
   "cell_type": "code",
   "execution_count": 200,
   "id": "98ef76e1",
   "metadata": {},
   "outputs": [
    {
     "name": "stdout",
     "output_type": "stream",
     "text": [
      "[[0.5488135  0.71518937 0.60276338]\n",
      " [0.54488318 0.4236548  0.64589411]]\n"
     ]
    }
   ],
   "source": [
    "# random.seed() 함수는 난수 생성에 필요한 시드를 설정합니다.\n",
    "\n",
    "import numpy as np\n",
    "\n",
    "np.random.seed(0)\n",
    "\n",
    "print(np.random.rand(2, 3))"
   ]
  },
  {
   "cell_type": "code",
   "execution_count": 205,
   "id": "072cd307",
   "metadata": {},
   "outputs": [
    {
     "name": "stdout",
     "output_type": "stream",
     "text": [
      "True\n"
     ]
    }
   ],
   "source": [
    "np.random.seed(0)\n",
    "a = np.random.rand(5)\n",
    "a>0.12\n",
    "print(np.all(a>0.12))\n",
    "# print(a)"
   ]
  },
  {
   "cell_type": "markdown",
   "id": "5b67daae",
   "metadata": {},
   "source": [
    "## any()와 all()의 비교"
   ]
  },
  {
   "cell_type": "code",
   "execution_count": 225,
   "id": "cd08447a",
   "metadata": {},
   "outputs": [
    {
     "name": "stdout",
     "output_type": "stream",
     "text": [
      "[0.67781654 0.27000797 0.73519402 0.96218855 0.24875314]\n",
      "[False False False  True False]\n",
      "True\n"
     ]
    }
   ],
   "source": [
    "a = np.random.rand(5)\n",
    "print(a)\n",
    "print(a>0.9)\n",
    "print(np.all(a>0.12))\n"
   ]
  },
  {
   "cell_type": "markdown",
   "id": "0e2c8857",
   "metadata": {},
   "source": [
    "## linspace()\n",
    "#### 시작과 끝의 값을 지정하고 그 사이의 값을 균등하게 배분 0과 12를 포함한 그 사이의 값들을 선형적으로 분배하여 모두 4개의 원소를 갖는 배열을 생성 \n",
    "#### numpy.linspace(start, stop, num=50, endpoint=True, restep=False, dtype=None, axis=0)"
   ]
  },
  {
   "cell_type": "code",
   "execution_count": 233,
   "id": "99a33ec4",
   "metadata": {},
   "outputs": [
    {
     "data": {
      "text/plain": [
       "array([ 0.,  4.,  8., 12.])"
      ]
     },
     "execution_count": 233,
     "metadata": {},
     "output_type": "execute_result"
    }
   ],
   "source": [
    "np.linspace(0, 12, 4)\n",
    "\n",
    "# 1에서 13까지 4등분"
   ]
  },
  {
   "cell_type": "code",
   "execution_count": 234,
   "id": "32b73664",
   "metadata": {},
   "outputs": [
    {
     "data": {
      "text/plain": [
       "array([0., 3., 6., 9.])"
      ]
     },
     "execution_count": 234,
     "metadata": {},
     "output_type": "execute_result"
    }
   ],
   "source": [
    "np.linspace(0, 12, 4, endpoint=False)"
   ]
  },
  {
   "cell_type": "code",
   "execution_count": null,
   "id": "e52f97da",
   "metadata": {},
   "outputs": [],
   "source": [
    "np.linspace(2, 13, 5, )"
   ]
  }
 ],
 "metadata": {
  "kernelspec": {
   "display_name": "Python 3",
   "language": "python",
   "name": "python3"
  },
  "language_info": {
   "codemirror_mode": {
    "name": "ipython",
    "version": 3
   },
   "file_extension": ".py",
   "mimetype": "text/x-python",
   "name": "python",
   "nbconvert_exporter": "python",
   "pygments_lexer": "ipython3",
   "version": "3.8.9"
  }
 },
 "nbformat": 4,
 "nbformat_minor": 5
}
